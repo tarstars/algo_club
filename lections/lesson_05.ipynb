{
 "cells": [
  {
   "cell_type": "markdown",
   "metadata": {},
   "source": [
    "# rotate matrix counter clockwise 90 deg "
   ]
  },
  {
   "cell_type": "code",
   "execution_count": 15,
   "metadata": {},
   "outputs": [
    {
     "data": {
      "text/plain": [
       "[[13, 23, 33], [12, 22, 32], [11, 21, 31]]"
      ]
     },
     "execution_count": 15,
     "metadata": {},
     "output_type": "execute_result"
    }
   ],
   "source": [
    "a = [\n",
    "    [11, 12, 13],\n",
    "    [21, 22, 23],\n",
    "    [31, 32, 33]\n",
    "]\n",
    "\n",
    "[\n",
    "    [13, 23, 33],\n",
    "    [12, 22, 32],\n",
    "    [11, 21, 31]\n",
    "]"
   ]
  },
  {
   "cell_type": "markdown",
   "metadata": {},
   "source": [
    "$T=O(n^2), M=O(1)$ inplace"
   ]
  },
  {
   "cell_type": "code",
   "execution_count": 3,
   "metadata": {},
   "outputs": [],
   "source": [
    "n = len(a)"
   ]
  },
  {
   "cell_type": "code",
   "execution_count": 8,
   "metadata": {},
   "outputs": [
    {
     "data": {
      "text/plain": [
       "(3, 0)"
      ]
     },
     "execution_count": 8,
     "metadata": {},
     "output_type": "execute_result"
    }
   ],
   "source": [
    "(p, q)\n",
    "(q, n-p)\n",
    "(n-p, q)"
   ]
  },
  {
   "cell_type": "code",
   "execution_count": 16,
   "metadata": {},
   "outputs": [],
   "source": [
    "for p in range(n):\n",
    "    for q in range(n//2):\n",
    "        a[p][q], a[p][n-1-q] = a[p][n-1-q], a[p][q]\n",
    "\n",
    "for p in range(n-1):\n",
    "    for q in range(p+1, n):\n",
    "        a[p][q], a[q][p] = a[q][p], a[p][q]"
   ]
  },
  {
   "cell_type": "code",
   "execution_count": 17,
   "metadata": {},
   "outputs": [
    {
     "data": {
      "text/plain": [
       "[[13, 23, 33], [12, 22, 32], [11, 21, 31]]"
      ]
     },
     "execution_count": 17,
     "metadata": {},
     "output_type": "execute_result"
    }
   ],
   "source": [
    "a"
   ]
  },
  {
   "cell_type": "code",
   "execution_count": 11,
   "metadata": {},
   "outputs": [
    {
     "data": {
      "text/plain": [
       "[[13, 23, 33], [12, 22, 32], [11, 21, 31]]"
      ]
     },
     "execution_count": 11,
     "metadata": {},
     "output_type": "execute_result"
    }
   ],
   "source": [
    "[[13, 23, 33], [12, 22, 32], [11, 21, 31]]"
   ]
  },
  {
   "cell_type": "markdown",
   "metadata": {},
   "source": [
    "## Heap"
   ]
  },
  {
   "cell_type": "raw",
   "metadata": {},
   "source": [
    "p -l> 2*p + 1\n",
    "p -r> 2*p + 2\n",
    "\n",
    "z -> p=(z - 1) // 2"
   ]
  },
  {
   "cell_type": "raw",
   "metadata": {},
   "source": [
    "max heap\n",
    "a[p] >= a[2*p + 1]\n",
    "a[p] >= a[2*p + 2]\n",
    "\n",
    "min heap\n",
    "a[p] <= a[2*p + 1]\n",
    "a[p] <= a[2*p + 2]"
   ]
  },
  {
   "cell_type": "markdown",
   "metadata": {},
   "source": [
    "## Interface\n",
    "\n",
    "### public interface (priority queue)\n",
    "* create(a: iterable)\n",
    "* push(x)\n",
    "* pop()\n",
    "\n",
    "### private interface (heap)\n",
    "* heapify(a)\n",
    "* sift_up(a, ind)\n",
    "* sift_down(a, ind)"
   ]
  },
  {
   "cell_type": "code",
   "execution_count": 42,
   "metadata": {},
   "outputs": [],
   "source": [
    "def p(z):\n",
    "    return (z - 1) // 2\n",
    "\n",
    "def lc(pp):\n",
    "    return 2*pp + 1\n",
    "\n",
    "def rc(pp):\n",
    "    return 2*pp + 2\n",
    "\n",
    "\n",
    "class PriorityQueue:\n",
    "    def __init__(self, a=None):\n",
    "        if a is None:\n",
    "            a = []\n",
    "        self.a = list(a)\n",
    "        \n",
    "    @classmethod\n",
    "    def create(cls, a):\n",
    "        self = cls(a)\n",
    "        self.heapify()\n",
    "        return self\n",
    "    \n",
    "    def push(self, x):\n",
    "        ind = len(self.a)\n",
    "        self.a.append(x)\n",
    "        self.sift_up(ind)\n",
    "    \n",
    "    def pop(self):\n",
    "        result = self.a[0]\n",
    "        self.a[0], self.a[-1] = self.a[-1], self.a[0]\n",
    "        self.a.pop()\n",
    "        self.sift_down(0)\n",
    "        return result\n",
    "    \n",
    "    def heapify(self):\n",
    "        n = len(self.a)\n",
    "        \n",
    "        # for p in range(n):   # makes good heap  I\n",
    "        #     self.sift_up(p)  # T = O(n * log(n))\n",
    "        \n",
    "        for ind in range(n - 1, -1, -1):  # makes good heap  II\n",
    "            self.sift_down(ind)              # T = O(n)\n",
    "        \n",
    "    def sift_up(self, ind):\n",
    "        while ind and self.a[ind] > self.a[p(ind)]:\n",
    "            self.a[ind], self.a[p(ind)] = self.a[p(ind)], self.a[ind]\n",
    "            ind = p(ind)\n",
    "        return ind\n",
    "    \n",
    "    def sift_down(self, ind):\n",
    "        n = len(self.a)\n",
    "        while True:\n",
    "            max_cand_ind = ind\n",
    "            if lc(ind) < n and self.a[lc(ind)] > self.a[max_cand_ind]:\n",
    "                max_cand_ind = lc(ind)\n",
    "            if rc(ind) < n and self.a[rc(ind)] > self.a[max_cand_ind]:\n",
    "                max_cand_ind = rc(ind)\n",
    "            \n",
    "            if max_cand_ind == ind:\n",
    "                break\n",
    "            \n",
    "            self.a[ind], self.a[max_cand_ind] = self.a[max_cand_ind], self.a[ind]\n",
    "            ind = max_cand_ind\n",
    "            \n",
    "        return ind\n",
    "        \n",
    "    \n",
    "    "
   ]
  },
  {
   "cell_type": "code",
   "execution_count": 43,
   "metadata": {},
   "outputs": [],
   "source": [
    "pq = PriorityQueue([10, -4, 5, 2, 3, 4, 1])"
   ]
  },
  {
   "cell_type": "code",
   "execution_count": 44,
   "metadata": {},
   "outputs": [],
   "source": [
    "pq = PriorityQueue.create([8, 4, 17, 2, 20, 18, 1, 100, 3])"
   ]
  },
  {
   "cell_type": "code",
   "execution_count": 45,
   "metadata": {},
   "outputs": [
    {
     "data": {
      "text/plain": [
       "100"
      ]
     },
     "execution_count": 45,
     "metadata": {},
     "output_type": "execute_result"
    }
   ],
   "source": [
    "pq.pop()"
   ]
  },
  {
   "cell_type": "code",
   "execution_count": 46,
   "metadata": {},
   "outputs": [
    {
     "data": {
      "text/plain": [
       "20"
      ]
     },
     "execution_count": 46,
     "metadata": {},
     "output_type": "execute_result"
    }
   ],
   "source": [
    "pq.pop()"
   ]
  },
  {
   "cell_type": "code",
   "execution_count": 47,
   "metadata": {},
   "outputs": [
    {
     "data": {
      "text/plain": [
       "18"
      ]
     },
     "execution_count": 47,
     "metadata": {},
     "output_type": "execute_result"
    }
   ],
   "source": [
    "pq.pop()"
   ]
  },
  {
   "cell_type": "code",
   "execution_count": 48,
   "metadata": {},
   "outputs": [],
   "source": [
    "pq.push(13)"
   ]
  },
  {
   "cell_type": "code",
   "execution_count": 49,
   "metadata": {},
   "outputs": [],
   "source": [
    "pq.push(42)"
   ]
  },
  {
   "cell_type": "code",
   "execution_count": 50,
   "metadata": {},
   "outputs": [
    {
     "data": {
      "text/plain": [
       "42"
      ]
     },
     "execution_count": 50,
     "metadata": {},
     "output_type": "execute_result"
    }
   ],
   "source": [
    "pq.pop()"
   ]
  },
  {
   "cell_type": "code",
   "execution_count": 35,
   "metadata": {},
   "outputs": [
    {
     "data": {
      "text/plain": [
       "4"
      ]
     },
     "execution_count": 35,
     "metadata": {},
     "output_type": "execute_result"
    }
   ],
   "source": [
    "pq.sift_down(1)"
   ]
  },
  {
   "cell_type": "code",
   "execution_count": 36,
   "metadata": {},
   "outputs": [
    {
     "data": {
      "text/plain": [
       "[10, 3, 5, 2, -4, 4, 1]"
      ]
     },
     "execution_count": 36,
     "metadata": {},
     "output_type": "execute_result"
    }
   ],
   "source": [
    "pq.a"
   ]
  },
  {
   "cell_type": "code",
   "execution_count": null,
   "metadata": {},
   "outputs": [],
   "source": [
    "1/4 *   (1/1 + 2/2 + 3/4 + 4/8 + ...) = 1/4 * 2 * (1 + 1/2 + 1/4 + ...) = 1/4 * 2 * 2 = 1\n",
    "= 1/4 * 1* (1/1 + 1/2 + 1/4 + 1/8 + ...\n",
    "        1/2*   (1/1 + 1/2 + 1/4 + ...\n",
    "          1/4*     + (1/1 + 1/2 + ...\n",
    "           1/8*                (1/1 + ...\n",
    "\n",
    "\n"
   ]
  }
 ],
 "metadata": {
  "kernelspec": {
   "display_name": "Python 3",
   "language": "python",
   "name": "python3"
  },
  "language_info": {
   "codemirror_mode": {
    "name": "ipython",
    "version": 3
   },
   "file_extension": ".py",
   "mimetype": "text/x-python",
   "name": "python",
   "nbconvert_exporter": "python",
   "pygments_lexer": "ipython3",
   "version": "3.8.2"
  }
 },
 "nbformat": 4,
 "nbformat_minor": 4
}
